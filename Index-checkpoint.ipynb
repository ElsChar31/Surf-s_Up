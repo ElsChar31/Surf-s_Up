{
 "cells": [
  {
   "cell_type": "code",
   "execution_count": null,
   "id": "945e5add",
   "metadata": {},
   "outputs": [],
   "source": [
    "prev_year = dt.date(2017, 8, 23) - dt.timedelta(days=365)"
   ]
  },
  {
   "cell_type": "code",
   "execution_count": null,
   "id": "eeb2e7de",
   "metadata": {},
   "outputs": [],
   "source": [
    "results = session.query(Measurement.date, Measurement.prcp)\n",
    "\n",
    "print(results.all()).filter(Measurement.date >= prev_year).all()"
   ]
  },
  {
   "cell_type": "code",
   "execution_count": null,
   "id": "ce26500d",
   "metadata": {},
   "outputs": [],
   "source": [
    "df = pd.DataFrame(results, columns=['date','precipitation'])"
   ]
  },
  {
   "cell_type": "code",
   "execution_count": null,
   "id": "324dba2f",
   "metadata": {},
   "outputs": [],
   "source": [
    "df.set_index(df['date'], inplace=True)"
   ]
  },
  {
   "cell_type": "code",
   "execution_count": null,
   "id": "589deca2",
   "metadata": {},
   "outputs": [],
   "source": [
    "print(df.to_string(index=False))"
   ]
  },
  {
   "cell_type": "code",
   "execution_count": null,
   "id": "71f9a5a9",
   "metadata": {},
   "outputs": [],
   "source": [
    "df = df.sort_index()"
   ]
  },
  {
   "cell_type": "code",
   "execution_count": null,
   "id": "0eb6aca2",
   "metadata": {},
   "outputs": [],
   "source": [
    "df.plot()"
   ]
  },
  {
   "cell_type": "code",
   "execution_count": null,
   "id": "f7af7cc4",
   "metadata": {},
   "outputs": [],
   "source": [
    "df.describe()"
   ]
  },
  {
   "cell_type": "code",
   "execution_count": 1,
   "id": "3e68a77c",
   "metadata": {},
   "outputs": [
    {
     "name": "stdout",
     "output_type": "stream",
     "text": [
      "Requirement already satisfied: flask in c:\\users\\lswor\\anaconda3\\envs\\pythondata\\lib\\site-packages (1.1.2)\n",
      "Collecting psycopg2-binary\n",
      "  Downloading psycopg2_binary-2.9.3-cp37-cp37m-win_amd64.whl (1.1 MB)\n",
      "Requirement already satisfied: click>=5.1 in c:\\users\\lswor\\anaconda3\\envs\\pythondata\\lib\\site-packages (from flask) (8.0.4)\n",
      "Requirement already satisfied: Jinja2>=2.10.1 in c:\\users\\lswor\\anaconda3\\envs\\pythondata\\lib\\site-packages (from flask) (2.11.3)\n",
      "Requirement already satisfied: Werkzeug>=0.15 in c:\\users\\lswor\\anaconda3\\envs\\pythondata\\lib\\site-packages (from flask) (2.0.3)\n",
      "Requirement already satisfied: itsdangerous>=0.24 in c:\\users\\lswor\\anaconda3\\envs\\pythondata\\lib\\site-packages (from flask) (2.0.1)\n",
      "Requirement already satisfied: importlib-metadata in c:\\users\\lswor\\anaconda3\\envs\\pythondata\\lib\\site-packages (from click>=5.1->flask) (4.11.3)\n",
      "Requirement already satisfied: colorama in c:\\users\\lswor\\anaconda3\\envs\\pythondata\\lib\\site-packages (from click>=5.1->flask) (0.4.4)\n",
      "Requirement already satisfied: MarkupSafe>=0.23 in c:\\users\\lswor\\anaconda3\\envs\\pythondata\\lib\\site-packages (from Jinja2>=2.10.1->flask) (2.0.1)\n",
      "Requirement already satisfied: zipp>=0.5 in c:\\users\\lswor\\anaconda3\\envs\\pythondata\\lib\\site-packages (from importlib-metadata->click>=5.1->flask) (3.7.0)\n",
      "Requirement already satisfied: typing-extensions>=3.6.4 in c:\\users\\lswor\\anaconda3\\envs\\pythondata\\lib\\site-packages (from importlib-metadata->click>=5.1->flask) (4.1.1)\n",
      "Installing collected packages: psycopg2-binary\n",
      "Successfully installed psycopg2-binary-2.9.3\n",
      "Note: you may need to restart the kernel to use updated packages.\n"
     ]
    }
   ],
   "source": [
    "pip install flask psycopg2-binary"
   ]
  },
  {
   "cell_type": "code",
   "execution_count": null,
   "id": "fec41966",
   "metadata": {},
   "outputs": [],
   "source": [
    "@app.route('/')\n",
    "def hello_world():\n",
    "    return 'Hello world'"
   ]
  },
  {
   "cell_type": "code",
   "execution_count": null,
   "id": "d245f97d",
   "metadata": {},
   "outputs": [],
   "source": [
    "export FLASK_APP=app.py"
   ]
  },
  {
   "cell_type": "code",
   "execution_count": null,
   "id": "19e83fbc",
   "metadata": {},
   "outputs": [],
   "source": [
    "set FLASK_APP=app.py"
   ]
  },
  {
   "cell_type": "code",
   "execution_count": null,
   "id": "38e8e618",
   "metadata": {},
   "outputs": [],
   "source": [
    "flask run"
   ]
  },
  {
   "cell_type": "code",
   "execution_count": null,
   "id": "a8f250d9",
   "metadata": {},
   "outputs": [],
   "source": [
    "import datetime as dt\n",
    "\n",
    "import numpy as np\n",
    "\n",
    "import pandas as pd"
   ]
  },
  {
   "cell_type": "code",
   "execution_count": null,
   "id": "e7d6babb",
   "metadata": {},
   "outputs": [],
   "source": [
    "import sqlalchemy\n",
    "\n",
    "from sqlalchemy.ext.automap import automap_base\n",
    "\n",
    "from sqlalchemy.orm import Session\n",
    "\n",
    "from sqlalchemy import create_engine, func"
   ]
  },
  {
   "cell_type": "code",
   "execution_count": null,
   "id": "e6708aed",
   "metadata": {},
   "outputs": [],
   "source": [
    "from flask import Flask, jsonify"
   ]
  },
  {
   "cell_type": "code",
   "execution_count": null,
   "id": "6bed53d4",
   "metadata": {},
   "outputs": [],
   "source": [
    "engine = create_engine(\"sqlite:///hawaii.sqlite\")"
   ]
  },
  {
   "cell_type": "code",
   "execution_count": null,
   "id": "aff9faec",
   "metadata": {},
   "outputs": [],
   "source": [
    "Base = automap_base()"
   ]
  },
  {
   "cell_type": "code",
   "execution_count": null,
   "id": "87091752",
   "metadata": {},
   "outputs": [],
   "source": [
    "Base.prepare(engine, reflect=True)\n",
    "\n",
    "Measurement = Base.classes.measurement\n",
    "\n",
    "Station = Base.classes.station"
   ]
  },
  {
   "cell_type": "code",
   "execution_count": null,
   "id": "0f4c725f",
   "metadata": {},
   "outputs": [],
   "source": [
    "app = Flask(__name__)\n",
    "\n",
    "import app\n",
    "\n",
    "print(\"example __name__ = %s\", __name__)\n",
    "\n",
    "if __name__ == \"__main__\":\n",
    "    print(\"example is being run directly.\")\n",
    "else:\n",
    "    print(\"example is being imported\")"
   ]
  },
  {
   "cell_type": "code",
   "execution_count": null,
   "id": "12ab025e",
   "metadata": {},
   "outputs": [],
   "source": [
    "@app.route(\"/\")\n",
    "\n",
    "def welcome():\n",
    "    \n",
    "    return(\n",
    "        \n",
    "    '''\n",
    "    \n",
    "    Welcome to the Climate Analysis API!\n",
    "    \n",
    "    Available Routes:\n",
    "    \n",
    "    /api/v1.0/precipitation\n",
    "    \n",
    "    /api/v1.0/stations\n",
    "    \n",
    "    /api/v1.0/tobs\n",
    "    \n",
    "    /api/v1.0/temp/start/end\n",
    "    \n",
    "    ''')"
   ]
  },
  {
   "cell_type": "code",
   "execution_count": null,
   "id": "1cab5f68",
   "metadata": {},
   "outputs": [],
   "source": [
    "flask run"
   ]
  },
  {
   "cell_type": "code",
   "execution_count": null,
   "id": "b9210a2d",
   "metadata": {},
   "outputs": [],
   "source": [
    "@app.route(\"/api/v1.0/precipitation\")\n",
    "\n",
    "def precipitation():\n",
    "    \n",
    "   prev_year = dt.date(2017, 8, 23) - dt.timedelta(days=365)\n",
    "\n",
    "   precipitation = session.query(Measurement.date, Measurement.prcp).\\\n",
    "    \n",
    "      filter(Measurement.date >= prev_year).all()\n",
    "    \n",
    "    precip = {date: prcp for date, prcp in precipitation}\n",
    "    \n",
    "   return jsonify(precip)\n",
    "\n",
    "   return"
   ]
  },
  {
   "cell_type": "code",
   "execution_count": null,
   "id": "a41d3dd6",
   "metadata": {},
   "outputs": [],
   "source": [
    "@app.route(\"/api/v1.0/stations\")\n",
    "\n",
    "def stations():\n",
    "    \n",
    "    results = session.query(Station.station).all()\n",
    "    \n",
    "    stations = list(np.ravel(results))\n",
    "    \n",
    "    return jsonify(stations=stations)"
   ]
  }
 ],
 "metadata": {
  "kernelspec": {
   "display_name": "Pythondata",
   "language": "python",
   "name": "pythondata"
  },
  "language_info": {
   "codemirror_mode": {
    "name": "ipython",
    "version": 3
   },
   "file_extension": ".py",
   "mimetype": "text/x-python",
   "name": "python",
   "nbconvert_exporter": "python",
   "pygments_lexer": "ipython3",
   "version": "3.7.13"
  }
 },
 "nbformat": 4,
 "nbformat_minor": 5
}
